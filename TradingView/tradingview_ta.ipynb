{
 "cells": [
  {
   "cell_type": "code",
   "execution_count": 1,
   "id": "47295bd2-9e29-409a-b77b-96301da63100",
   "metadata": {},
   "outputs": [],
   "source": [
    "from tradingview_ta import TA_Handler, Exchange, Interval\n"
   ]
  },
  {
   "cell_type": "code",
   "execution_count": 2,
   "id": "c216cef5-7e35-4933-936b-fe535a32bf02",
   "metadata": {},
   "outputs": [],
   "source": [
    "tesla = TA_Handler(\n",
    "    symbol='TSLA',\n",
    "    screener='america',\n",
    "    exchange='NASDAQ',\n",
    "    interval =Interval.INTERVAL_1_MINUTE\n",
    ")"
   ]
  },
  {
   "cell_type": "code",
   "execution_count": null,
   "id": "0de48a2f-c967-41fb-9558-39777c9e8df5",
   "metadata": {},
   "outputs": [],
   "source": []
  }
 ],
 "metadata": {
  "kernelspec": {
   "display_name": "Python 3 (ipykernel)",
   "language": "python",
   "name": "python3"
  },
  "language_info": {
   "codemirror_mode": {
    "name": "ipython",
    "version": 3
   },
   "file_extension": ".py",
   "mimetype": "text/x-python",
   "name": "python",
   "nbconvert_exporter": "python",
   "pygments_lexer": "ipython3",
   "version": "3.12.0"
  }
 },
 "nbformat": 4,
 "nbformat_minor": 5
}
