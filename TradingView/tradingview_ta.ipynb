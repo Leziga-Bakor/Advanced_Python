{
 "cells": [
  {
   "cell_type": "code",
   "execution_count": 1,
   "id": "47295bd2-9e29-409a-b77b-96301da63100",
   "metadata": {},
   "outputs": [],
   "source": [
    "from tradingview_ta import TA_Handler, Exchange, Interval\n"
   ]
  },
  {
   "cell_type": "code",
   "execution_count": 6,
   "id": "c216cef5-7e35-4933-936b-fe535a32bf02",
   "metadata": {},
   "outputs": [],
   "source": [
    "handler = TA_Handler(\n",
    "    symbol='TSLA',\n",
    "    screener='america',\n",
    "    exchange='NASDAQ',\n",
    "    interval =Interval.INTERVAL_1_MINUTE\n",
    ")"
   ]
  },
  {
   "cell_type": "code",
   "execution_count": 7,
   "id": "0de48a2f-c967-41fb-9558-39777c9e8df5",
   "metadata": {},
   "outputs": [
    {
     "data": {
      "text/plain": [
       "{'RECOMMENDATION': 'STRONG_SELL', 'BUY': 0, 'SELL': 17, 'NEUTRAL': 9}"
      ]
     },
     "execution_count": 7,
     "metadata": {},
     "output_type": "execute_result"
    }
   ],
   "source": [
    "handler.get_analysis().summary"
   ]
  },
  {
   "cell_type": "code",
   "execution_count": 9,
   "id": "5cd57ab7-6035-42cb-84b2-1cc716f2cf37",
   "metadata": {
    "scrolled": true
   },
   "outputs": [
    {
     "data": {
      "text/plain": [
       "{'Recommend.Other': -0.27272727,\n",
       " 'Recommend.All': -0.6030303,\n",
       " 'Recommend.MA': -0.93333333,\n",
       " 'RSI': 36.59892615,\n",
       " 'RSI[1]': 44.19822222,\n",
       " 'Stoch.K': 14.31799839,\n",
       " 'Stoch.D': 25.26073895,\n",
       " 'Stoch.K[1]': 24.95291902,\n",
       " 'Stoch.D[1]': 34.09918393,\n",
       " 'CCI20': -173.70852622,\n",
       " 'CCI20[1]': -78.63597946,\n",
       " 'ADX': 14.47178013,\n",
       " 'ADX+DI': 13.99727784,\n",
       " 'ADX-DI': 23.2827618,\n",
       " 'ADX+DI[1]': 15.38923412,\n",
       " 'ADX-DI[1]': 19.38281199,\n",
       " 'AO': -0.02588676,\n",
       " 'AO[1]': 0.01561618,\n",
       " 'Mom': -0.42,\n",
       " 'Mom[1]': -0.095,\n",
       " 'MACD.macd': -0.03241261,\n",
       " 'MACD.signal': -0.00092242,\n",
       " 'Rec.Stoch.RSI': 0,\n",
       " 'Stoch.RSI.K': 1.80561711,\n",
       " 'Rec.WR': 0,\n",
       " 'W.R': -98.57142857,\n",
       " 'Rec.BBPower': 0,\n",
       " 'BBPower': -0.34426056,\n",
       " 'Rec.UO': 0,\n",
       " 'UO': 31.67446001,\n",
       " 'close': 191.59,\n",
       " 'EMA5': 191.7808109,\n",
       " 'SMA5': 191.82,\n",
       " 'EMA10': 191.85493755,\n",
       " 'SMA10': 191.943,\n",
       " 'EMA20': 191.89073815,\n",
       " 'SMA20': 191.90781,\n",
       " 'EMA30': 191.90470608,\n",
       " 'SMA30': 191.88235,\n",
       " 'EMA50': 191.91562165,\n",
       " 'SMA50': 191.943056,\n",
       " 'EMA100': 191.90653336,\n",
       " 'SMA100': 191.926196,\n",
       " 'EMA200': 191.93469591,\n",
       " 'SMA200': 191.7259455,\n",
       " 'Rec.Ichimoku': 0,\n",
       " 'Ichimoku.BLine': 191.93,\n",
       " 'Rec.VWMA': -1,\n",
       " 'VWMA': 191.87987077,\n",
       " 'Rec.HullMA9': -1,\n",
       " 'HullMA9': 191.70361111,\n",
       " 'Pivot.M.Classic.S3': 173.09666667,\n",
       " 'Pivot.M.Classic.S2': 180.90666667,\n",
       " 'Pivot.M.Classic.S1': 185.95333333,\n",
       " 'Pivot.M.Classic.Middle': 188.71666667,\n",
       " 'Pivot.M.Classic.R1': 193.76333333,\n",
       " 'Pivot.M.Classic.R2': 196.52666667,\n",
       " 'Pivot.M.Classic.R3': 204.33666667,\n",
       " 'Pivot.M.Fibonacci.S3': 180.90666667,\n",
       " 'Pivot.M.Fibonacci.S2': 183.89008667,\n",
       " 'Pivot.M.Fibonacci.S1': 185.73324667,\n",
       " 'Pivot.M.Fibonacci.Middle': 188.71666667,\n",
       " 'Pivot.M.Fibonacci.R1': 191.70008667,\n",
       " 'Pivot.M.Fibonacci.R2': 193.54324667,\n",
       " 'Pivot.M.Fibonacci.R3': 196.52666667,\n",
       " 'Pivot.M.Camarilla.S3': 188.85225,\n",
       " 'Pivot.M.Camarilla.S2': 189.56816667,\n",
       " 'Pivot.M.Camarilla.S1': 190.28408333,\n",
       " 'Pivot.M.Camarilla.Middle': 188.71666667,\n",
       " 'Pivot.M.Camarilla.R1': 191.71591667,\n",
       " 'Pivot.M.Camarilla.R2': 192.43183333,\n",
       " 'Pivot.M.Camarilla.R3': 193.14775,\n",
       " 'Pivot.M.Woodie.S3': 183.615,\n",
       " 'Pivot.M.Woodie.S2': 183.6425,\n",
       " 'Pivot.M.Woodie.S1': 191.425,\n",
       " 'Pivot.M.Woodie.Middle': 191.4525,\n",
       " 'Pivot.M.Woodie.R1': 199.235,\n",
       " 'Pivot.M.Woodie.R2': 199.2625,\n",
       " 'Pivot.M.Woodie.R3': 207.045,\n",
       " 'Pivot.M.Demark.S1': 187.335,\n",
       " 'Pivot.M.Demark.Middle': 189.4075,\n",
       " 'Pivot.M.Demark.R1': 195.145,\n",
       " 'open': 191.82,\n",
       " 'P.SAR': 192.249168,\n",
       " 'BB.lower': 191.63265465,\n",
       " 'BB.upper': 192.18296535,\n",
       " 'AO[2]': 0.05108676,\n",
       " 'volume': 427283,\n",
       " 'change': -0.11209301,\n",
       " 'low': 191.58,\n",
       " 'high': 191.82}"
      ]
     },
     "execution_count": 9,
     "metadata": {},
     "output_type": "execute_result"
    }
   ],
   "source": [
    "handler.get_analysis().indicators"
   ]
  },
  {
   "cell_type": "code",
   "execution_count": null,
   "id": "9a15ad54-4a19-4d2d-9e3f-c93b5289e176",
   "metadata": {},
   "outputs": [],
   "source": []
  }
 ],
 "metadata": {
  "kernelspec": {
   "display_name": "Python 3 (ipykernel)",
   "language": "python",
   "name": "python3"
  },
  "language_info": {
   "codemirror_mode": {
    "name": "ipython",
    "version": 3
   },
   "file_extension": ".py",
   "mimetype": "text/x-python",
   "name": "python",
   "nbconvert_exporter": "python",
   "pygments_lexer": "ipython3",
   "version": "3.12.0"
  }
 },
 "nbformat": 4,
 "nbformat_minor": 5
}
